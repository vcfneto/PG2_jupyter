{
 "cells": [
  {
   "cell_type": "code",
   "execution_count": 1,
   "metadata": {},
   "outputs": [],
   "source": [
    "import numpy as np\n",
    "import time"
   ]
  },
  {
   "cell_type": "markdown",
   "metadata": {},
   "source": [
    "## Função GE:\n",
    "*inputs*: matriz inicial e lista de blocos aplicada\n",
    "<br> *output*: group efficiency do agrupamento"
   ]
  },
  {
   "cell_type": "code",
   "execution_count": 2,
   "metadata": {},
   "outputs": [],
   "source": [
    "def ge(mi,list_of_blocks):\n",
    "    nee = np.sum(mi)\n",
    "    '''n1 =0\n",
    "    mrxnr= 0\n",
    "    for block in list_of_blocks:\n",
    "        nee -= np.sum(block)\n",
    "        n1 += np.sum(block)\n",
    "        mrxnr += block.shape[0]*block.shape[1]\n",
    "\n",
    "    nee = np.sum(mi)'''\n",
    "    n1 =0\n",
    "    mrxnr= 0\n",
    "    for block in list_of_blocks:\n",
    "        n1 += np.count_nonzero(block)\n",
    "        mrxnr += block.size\n",
    "    nee -=n1\n",
    "    pee = nee/np.sum(mi)\n",
    "    #ex = pee\n",
    "    es = n1/mrxnr\n",
    "    ge = ((1-pee)+(es))/2\n",
    "\n",
    "    return ge"
   ]
  },
  {
   "cell_type": "markdown",
   "metadata": {},
   "source": [
    "## Funções auxiliares:\n",
    "*index_to_array*: transforma um índice (\"mapa da matriz\") de uma matriz em numpy array \n",
    "<br> *list_to_alt*: transforma uma lista de indíces em lista de alternativas\n",
    "<br> *swap_alt*: \"troca\" índices em uma alternativa de blocos. "
   ]
  },
  {
   "cell_type": "code",
   "execution_count": 3,
   "metadata": {},
   "outputs": [],
   "source": [
    "def index_to_array(matrix,index):\n",
    "    return matrix[index[0]:index[1],index[2]:index[3]]\n",
    "def list_to_alt(matrix,list_index):\n",
    "    output = []\n",
    "    [output.append(index_to_array(matrix,ind)) for ind in list_index]\n",
    "    return output\n",
    "def swap_alt(list_,swap,index):\n",
    "    c = list_[:index]\n",
    "    c.extend(swap)\n",
    "    c.extend(list_[index+1:])\n",
    "    return c"
   ]
  },
  {
   "cell_type": "markdown",
   "metadata": {},
   "source": [
    "## Função breaking_matrix\n",
    "*inputs*: matriz a ser \"quebrada\" e uma lista contendo esta matriz.\n",
    "<br>*outputs*: melhor GE e melhor alternativa encontrados.\n",
    "\n",
    "\n",
    "**Esta função funciona recursivamente, então reaplica-se internamente para quebrar em todas as opções possíveis de tamanho.** "
   ]
  },
  {
   "cell_type": "code",
   "execution_count": 4,
   "metadata": {},
   "outputs": [],
   "source": [
    "def matrix_break1(temp_list,matrix,max_ge=0,best_alt=list()):\n",
    "    for p in range(len(temp_list)):\n",
    "        m_ = temp_list[p]\n",
    "        rows,cols = m_.shape[0],m_.shape[1]\n",
    "        for i in range(rows-1):\n",
    "            for j in range(cols-1):\n",
    "                temp_list_copy = temp_list.copy()\n",
    "                alt = [[0,i+1,0,j+1],[i+1,rows,j+1,cols]]\n",
    "                aa =swap_alt(temp_list_copy,list_to_alt(m_,alt),p)\n",
    "                #ge_alt = 10\n",
    "                ge_alt = ge(matrix,aa)\n",
    "                if ge_alt>max_ge:\n",
    "                    max_ge,best_alt = ge_alt,aa\n",
    "                max_ge2,aa2 = matrix_break1(aa,matrix)\n",
    "                if max_ge2 > max_ge:\n",
    "                    max_ge,best_alt = max_ge2,aa2\n",
    "\n",
    "    return max_ge,best_alt  "
   ]
  },
  {
   "cell_type": "code",
   "execution_count": 5,
   "metadata": {},
   "outputs": [],
   "source": [
    "def matrix_break2(temp_list,matrix,max_ge=0,best_alt=list(),last_ge = 0):\n",
    "    for p in range(len(temp_list)):\n",
    "        m_ = temp_list[p]\n",
    "        rows,cols = m_.shape[0],m_.shape[1]\n",
    "        for i in range(rows-1):\n",
    "            for j in range(cols-1):\n",
    "                temp_list_copy = temp_list.copy()\n",
    "                alt = [[0,i+1,0,j+1],[i+1,rows,j+1,cols]]\n",
    "                aa =swap_alt(temp_list_copy,list_to_alt(m_,alt),p)\n",
    "                #ge_alt = 10\n",
    "                ge_alt = ge(matrix,aa)\n",
    "                if ge_alt>max_ge:\n",
    "                    max_ge,best_alt = ge_alt,aa\n",
    "                if ge_alt > last_ge:\n",
    "                    max_ge2,aa2 = matrix_break2(aa,matrix,last_ge = ge_alt)\n",
    "                    if max_ge2 > max_ge:\n",
    "                        max_ge,best_alt = max_ge2,aa2\n",
    "\n",
    "    return max_ge,best_alt  "
   ]
  },
  {
   "cell_type": "markdown",
   "metadata": {},
   "source": [
    "### TESTE\n",
    "Aqui crio uma matriz de tamanho 7x7 aleatória e aplico o programa desenvolvido."
   ]
  },
  {
   "cell_type": "code",
   "execution_count": 6,
   "metadata": {},
   "outputs": [
    {
     "name": "stdout",
     "output_type": "stream",
     "text": [
      "Matriz teste:\n",
      "[[1 1 0 0 1 1 1]\n",
      " [1 1 0 0 1 0 1]\n",
      " [1 0 0 1 0 0 0]\n",
      " [1 0 0 1 0 0 0]\n",
      " [1 0 0 0 1 1 1]\n",
      " [1 1 0 0 0 1 1]\n",
      " [1 1 1 1 0 1 1]]\n"
     ]
    }
   ],
   "source": [
    "np.random.seed(1)\n",
    "i = 7\n",
    "m_test = np.random.randint(2,size=(i,i))\n",
    "\n",
    "print(\"Matriz teste:\")\n",
    "print(m_test)"
   ]
  },
  {
   "cell_type": "code",
   "execution_count": 8,
   "metadata": {},
   "outputs": [
    {
     "name": "stdout",
     "output_type": "stream",
     "text": [
      "A melhor alternativa de blocos é:\n",
      "[array([[1],\n",
      "       [1],\n",
      "       [1],\n",
      "       [1],\n",
      "       [1],\n",
      "       [1]]), array([[1, 1, 1, 0, 1, 1]])]\n",
      "\n",
      "\n",
      "E seu GE é de :0.662037037037037\n"
     ]
    }
   ],
   "source": [
    "ge_m,alt_m = matrix_break2([m_test],m_test)\n",
    "print('A melhor alternativa de blocos é:')\n",
    "print(alt_m)\n",
    "print('\\n')\n",
    "print('E seu GE é de :'+str(ge_m))"
   ]
  },
  {
   "cell_type": "markdown",
   "metadata": {},
   "source": [
    "## TESTE DE TEMPO"
   ]
  },
  {
   "cell_type": "code",
   "execution_count": 9,
   "metadata": {},
   "outputs": [
    {
     "name": "stderr",
     "output_type": "stream",
     "text": [
      "C:\\Users\\vicenteneto\\AppData\\Local\\Continuum\\anaconda3\\lib\\site-packages\\ipykernel_launcher.py:17: RuntimeWarning: invalid value encountered in long_scalars\n"
     ]
    }
   ],
   "source": [
    "#max_size é o número máximo de linhas e colunas da matriz testada\n",
    "#se max_size = n, o programa irá rodar matrizes 1x1,2x2,3x3...nxn\n",
    "#seu output será o tempo de operação e número da matrix que está sendo aplicada\n",
    "#exemplo: 0.41 5 - tempo de 0.41 segundos para aplicar achar a melhor alternativa para uma matriz 5x5\n",
    "max_size = 5\n",
    "for i in range(50):\n",
    "    for i in range(8):\n",
    "        m_test = np.random.randint(2,size=(i,i))\n",
    "        #np.random.seed(i)\n",
    "        ge1 = matrix_break1([m_test],m_test)[0]\n",
    "        ge2 = matrix_break2([m_test],m_test)[0]\n",
    "        if (ge1 == ge2) == False:\n",
    "            print(False)"
   ]
  },
  {
   "cell_type": "code",
   "execution_count": 35,
   "metadata": {},
   "outputs": [
    {
     "name": "stdout",
     "output_type": "stream",
     "text": [
      "0.4971492290496826 15\n"
     ]
    }
   ],
   "source": [
    "i = 15\n",
    "m_test = np.random.randint(2,size=(i,i))\n",
    "start_time = time.time()\n",
    "matrix_break2([m_test],m_test)\n",
    "print(time.time()-start_time,i)"
   ]
  },
  {
   "cell_type": "code",
   "execution_count": 49,
   "metadata": {},
   "outputs": [
    {
     "name": "stdout",
     "output_type": "stream",
     "text": [
      "[[1 0 0 0 0 0 0 0 0]\n",
      " [0 1 0 0 0 0 0 0 0]\n",
      " [0 0 1 0 0 0 0 0 0]\n",
      " [0 0 0 1 0 0 0 0 0]\n",
      " [0 0 0 0 1 1 0 0 0]\n",
      " [0 0 0 0 0 1 1 0 0]\n",
      " [0 0 0 0 0 1 1 0 0]\n",
      " [0 0 0 0 0 0 0 1 1]\n",
      " [0 0 0 0 0 0 0 1 1]]\n"
     ]
    }
   ],
   "source": [
    "a = np.matrix('1 0 0 0 0 0 0 0 0; 0 1 0 0 0 0 0 0 0; 0 0 1 0 0 0 0 0 0; 0 0 0 1 0 0 0 0 0; 0 0 0 0 1 1 0 0 0; 0 0 0 0 0 1 1 0 0; 0 0 0 0 0 1 1 0 0; 0 0 0 0 0 0 0 1 1; 0 0 0 0 0 0 0 1 1')\n",
    "print(a)"
   ]
  },
  {
   "cell_type": "code",
   "execution_count": 50,
   "metadata": {},
   "outputs": [
    {
     "data": {
      "text/plain": [
       "(0.9642857142857143,\n",
       " [matrix([[1]]),\n",
       "  matrix([[1]]),\n",
       "  matrix([[1]]),\n",
       "  matrix([[1]]),\n",
       "  matrix([[1]]),\n",
       "  matrix([[1, 1],\n",
       "          [1, 1]]),\n",
       "  matrix([[1, 1],\n",
       "          [1, 1]])])"
      ]
     },
     "execution_count": 50,
     "metadata": {},
     "output_type": "execute_result"
    }
   ],
   "source": [
    "matrix_break2([a],a)"
   ]
  },
  {
   "cell_type": "code",
   "execution_count": null,
   "metadata": {},
   "outputs": [],
   "source": []
  }
 ],
 "metadata": {
  "kernelspec": {
   "display_name": "Python 3",
   "language": "python",
   "name": "python3"
  },
  "language_info": {
   "codemirror_mode": {
    "name": "ipython",
    "version": 3
   },
   "file_extension": ".py",
   "mimetype": "text/x-python",
   "name": "python",
   "nbconvert_exporter": "python",
   "pygments_lexer": "ipython3",
   "version": "3.7.1"
  }
 },
 "nbformat": 4,
 "nbformat_minor": 2
}
