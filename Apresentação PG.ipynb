{
 "cells": [
  {
   "cell_type": "code",
   "execution_count": 27,
   "metadata": {},
   "outputs": [],
   "source": [
    "print(1)"
   ]
  },
  {
   "cell_type": "markdown",
   "metadata": {},
   "source": [
    "## Síntaxe de Python"
   ]
  },
  {
   "cell_type": "code",
   "execution_count": 28,
   "metadata": {},
   "outputs": [],
   "source": [
    "lista = []\n",
    "dic = {}"
   ]
  },
  {
   "cell_type": "code",
   "execution_count": 31,
   "metadata": {},
   "outputs": [],
   "source": [
    "lista = [\"vicente\",10,14,0,9,False]\n",
    "dic = {\"Vicente\":10,\"Fialho\":2,\"Neto\":1000}"
   ]
  },
  {
   "cell_type": "code",
   "execution_count": 32,
   "metadata": {},
   "outputs": [
    {
     "name": "stdout",
     "output_type": "stream",
     "text": [
      "vicente\n",
      "10\n"
     ]
    }
   ],
   "source": [
    "print(lista[0])\n",
    "print(dic[\"Vicente\"])"
   ]
  },
  {
   "cell_type": "markdown",
   "metadata": {},
   "source": [
    "## Importando Numpy"
   ]
  },
  {
   "cell_type": "code",
   "execution_count": 33,
   "metadata": {},
   "outputs": [],
   "source": [
    "import numpy as np\n",
    "np.set_printoptions(threshold=np.nan)"
   ]
  },
  {
   "cell_type": "code",
   "execution_count": 34,
   "metadata": {},
   "outputs": [],
   "source": [
    "matriz_exemplo = np.matrix('1 0 0; 0 0 1; 0 1 0')"
   ]
  },
  {
   "cell_type": "markdown",
   "metadata": {},
   "source": [
    "## Função auxiliar"
   ]
  },
  {
   "cell_type": "code",
   "execution_count": 36,
   "metadata": {},
   "outputs": [],
   "source": [
    "def removearray(L,arr):\n",
    "    ind = 0\n",
    "    size = len(L)\n",
    "    while ind != size and not np.array_equal(L[ind],arr):\n",
    "        ind += 1\n",
    "    if ind != size:\n",
    "        L.pop(ind)\n",
    "    else:\n",
    "        raise ValueError('array not found in list.')"
   ]
  },
  {
   "cell_type": "markdown",
   "metadata": {},
   "source": [
    "## Função GE"
   ]
  },
  {
   "cell_type": "code",
   "execution_count": 37,
   "metadata": {},
   "outputs": [],
   "source": [
    "def ge(mi,list_of_blocks):\n",
    "    \n",
    "    nee = np.sum(mi)\n",
    "    n1 =0\n",
    "    mrxnr= 0\n",
    "    for block in list_of_blocks:\n",
    "        nee -= np.sum(block)\n",
    "        n1 += np.sum(block)\n",
    "        mrxnr += block.shape[0]*block.shape[1]\n",
    "\n",
    "    pee = nee/np.sum(mi)\n",
    "    ex = pee\n",
    "    es = n1/mrxnr\n",
    "    ge = ((1-ex)+(es))/2\n",
    "    \n",
    "    return ge"
   ]
  },
  {
   "cell_type": "code",
   "execution_count": 38,
   "metadata": {},
   "outputs": [
    {
     "name": "stdout",
     "output_type": "stream",
     "text": [
      "[[1 1 0 0]\n",
      " [0 1 0 0]\n",
      " [0 0 1 1]\n",
      " [0 0 1 1]]\n"
     ]
    }
   ],
   "source": [
    "matriz_teste = np.matrix('1 1 0 0; 0 1 0 0; 0 0 1 1; 0 0 1 1')\n",
    "print(matriz_teste)"
   ]
  },
  {
   "cell_type": "code",
   "execution_count": 39,
   "metadata": {},
   "outputs": [
    {
     "name": "stdout",
     "output_type": "stream",
     "text": [
      "[matrix([[1, 1],\n",
      "        [0, 1]]), matrix([[1, 1],\n",
      "        [1, 1]])]\n"
     ]
    }
   ],
   "source": [
    "lista_blocks = [matriz_teste[0:2,0:2],matriz_teste[2:,2:]]\n",
    "print(lista_blocks)"
   ]
  },
  {
   "cell_type": "code",
   "execution_count": 40,
   "metadata": {},
   "outputs": [
    {
     "data": {
      "text/plain": [
       "0.9375"
      ]
     },
     "execution_count": 40,
     "metadata": {},
     "output_type": "execute_result"
    }
   ],
   "source": [
    "ge(matriz_teste,lista_blocks)"
   ]
  },
  {
   "cell_type": "markdown",
   "metadata": {},
   "source": [
    "## Dividir em dois blocos"
   ]
  },
  {
   "cell_type": "code",
   "execution_count": 42,
   "metadata": {},
   "outputs": [],
   "source": [
    "def bk1(matrix):\n",
    "    #Cria lista vazia para guardar resultados\n",
    "    lista=[]\n",
    "    #Itera sobre as linhas da matriz\n",
    "    for i in range(matrix.shape[0]-1):\n",
    "        #Itera sobre as colunas da matriz\n",
    "        for j in range(matrix.shape[1]-1):\n",
    "            #Guarda uma alternativa na lista\n",
    "            lista.append([matrix[0:i+1,0:j+1],matrix[i+1:,j+1:]])\n",
    "    #Retorna a lista final\n",
    "    return lista"
   ]
  },
  {
   "cell_type": "code",
   "execution_count": 43,
   "metadata": {},
   "outputs": [],
   "source": [
    "lista_blocos = bk1(matriz_teste)"
   ]
  },
  {
   "cell_type": "code",
   "execution_count": 45,
   "metadata": {},
   "outputs": [
    {
     "data": {
      "text/plain": [
       "[[matrix([[1]]), matrix([[1, 0, 0],\n",
       "          [0, 1, 1],\n",
       "          [0, 1, 1]])], [matrix([[1, 1]]), matrix([[0, 0],\n",
       "          [1, 1],\n",
       "          [1, 1]])], [matrix([[1, 1, 0]]), matrix([[0],\n",
       "          [1],\n",
       "          [1]])], [matrix([[1],\n",
       "          [0]]), matrix([[0, 1, 1],\n",
       "          [0, 1, 1]])], [matrix([[1, 1],\n",
       "          [0, 1]]), matrix([[1, 1],\n",
       "          [1, 1]])], [matrix([[1, 1, 0],\n",
       "          [0, 1, 0]]), matrix([[1],\n",
       "          [1]])], [matrix([[1],\n",
       "          [0],\n",
       "          [0]]), matrix([[0, 1, 1]])], [matrix([[1, 1],\n",
       "          [0, 1],\n",
       "          [0, 0]]), matrix([[1, 1]])], [matrix([[1, 1, 0],\n",
       "          [0, 1, 0],\n",
       "          [0, 0, 1]]), matrix([[1]])]]"
      ]
     },
     "execution_count": 45,
     "metadata": {},
     "output_type": "execute_result"
    }
   ],
   "source": [
    "lista_blocos"
   ]
  },
  {
   "cell_type": "markdown",
   "metadata": {},
   "source": [
    "## Dividir em N+1 blocos"
   ]
  },
  {
   "cell_type": "code",
   "execution_count": 47,
   "metadata": {},
   "outputs": [],
   "source": [
    "def bk2(lista,x):\n",
    "    #Itera sobre a lista de alternativas\n",
    "    for ind in range(len(lista)):\n",
    "        #Verifica se o elemento é de comprimento x-1\n",
    "        if len(lista[ind])==x-1:\n",
    "            #Itera sobre os elementos dentro de uma alternativa\n",
    "            for b_ind in range(len(lista[ind])):\n",
    "                #Verifica se é possível dividir a alternativa em mais blocos\n",
    "                if (np.shape(lista[ind][b_ind])[0]>1 and np.shape(lista[ind][b_ind])[1]>1):\n",
    "                    #Copia parte da matriz que não será dividida \n",
    "                    temp = lista[ind].copy()\n",
    "                    new_matrix = temp[b_ind]\n",
    "                    removearray(temp,new_matrix)\n",
    "                    temp2 = temp.copy()\n",
    "                    #Itera sobre a parte dividível\n",
    "                    for l in range(new_matrix.shape[0]-1):\n",
    "                        for k in range(new_matrix.shape[1]-1):\n",
    "                            #Guarda as divisões possíveis em novas \n",
    "                            temp2.append(new_matrix[0:l+1,0:k+1])\n",
    "                            temp2.append(new_matrix[l+1:,k+1:])\n",
    "                            lista.append(temp2)\n",
    "                            temp2 = temp.copy()"
   ]
  },
  {
   "cell_type": "code",
   "execution_count": 49,
   "metadata": {},
   "outputs": [
    {
     "data": {
      "text/plain": [
       "33"
      ]
     },
     "execution_count": 49,
     "metadata": {},
     "output_type": "execute_result"
    }
   ],
   "source": [
    "bk2(lista_blocos,4)\n",
    "\n",
    "len(lista_blocos)"
   ]
  },
  {
   "cell_type": "code",
   "execution_count": 4,
   "metadata": {},
   "outputs": [],
   "source": [
    "#bk2(lista_blocos,4)\n",
    "#len(lista_blocos)"
   ]
  },
  {
   "cell_type": "code",
   "execution_count": 1,
   "metadata": {},
   "outputs": [],
   "source": [
    "#print(lista_blocos)"
   ]
  },
  {
   "cell_type": "code",
   "execution_count": 5,
   "metadata": {},
   "outputs": [],
   "source": [
    "#lista_blocos[10]"
   ]
  },
  {
   "cell_type": "markdown",
   "metadata": {},
   "source": [
    "## Função Principal"
   ]
  },
  {
   "cell_type": "code",
   "execution_count": 50,
   "metadata": {},
   "outputs": [],
   "source": [
    "def main_prog(mi):\n",
    "    \n",
    "    lista=bk1(mi)\n",
    "    for x in range(min(np.shape(mi)[0],np.shape(mi)[1])-2):\n",
    "        bk2(lista,x+3)\n",
    "    \n",
    "    results ={}\n",
    "    for i in range(len(lista)):\n",
    "        results[i]=ge(mi,lista[i])\n",
    "    \n",
    "    final = lista[max(results,key=results.get)]\n",
    "    #return lista\n",
    "    return (final,ge(mi,final))"
   ]
  },
  {
   "cell_type": "code",
   "execution_count": 51,
   "metadata": {},
   "outputs": [
    {
     "name": "stdout",
     "output_type": "stream",
     "text": [
      "[[1 1 0 0]\n",
      " [0 1 0 0]\n",
      " [0 0 1 1]\n",
      " [0 0 1 1]]\n"
     ]
    }
   ],
   "source": [
    "print(matriz_teste)"
   ]
  },
  {
   "cell_type": "code",
   "execution_count": 52,
   "metadata": {},
   "outputs": [
    {
     "data": {
      "text/plain": [
       "([matrix([[1, 1],\n",
       "          [0, 1]]), matrix([[1, 1],\n",
       "          [1, 1]])], 0.9375)"
      ]
     },
     "execution_count": 52,
     "metadata": {},
     "output_type": "execute_result"
    }
   ],
   "source": [
    "main_prog(matriz_teste)"
   ]
  },
  {
   "cell_type": "code",
   "execution_count": 53,
   "metadata": {},
   "outputs": [
    {
     "name": "stdout",
     "output_type": "stream",
     "text": [
      "[[0 0 1 0 0 0 1 1]\n",
      " [1 1 0 0 1 0 1 1]\n",
      " [1 0 1 1 1 0 1 1]\n",
      " [0 1 0 0 0 0 1 0]\n",
      " [0 0 1 1 1 0 0 0]\n",
      " [0 1 1 0 0 0 0 1]\n",
      " [1 0 1 1 1 0 0 0]\n",
      " [0 1 1 0 1 0 1 0]]\n"
     ]
    }
   ],
   "source": [
    "matriz_aleatoria = np.random.randint(2,size=(8,8))\n",
    "print(matriz_aleatoria)"
   ]
  },
  {
   "cell_type": "code",
   "execution_count": 54,
   "metadata": {},
   "outputs": [
    {
     "data": {
      "text/plain": [
       "([array([[0]]), array([[1, 0, 0, 1, 0, 1, 1],\n",
       "         [0, 1, 1, 1, 0, 1, 1],\n",
       "         [1, 0, 0, 0, 0, 1, 0],\n",
       "         [0, 1, 1, 1, 0, 0, 0],\n",
       "         [1, 1, 0, 0, 0, 0, 1],\n",
       "         [0, 1, 1, 1, 0, 0, 0],\n",
       "         [1, 1, 0, 1, 0, 1, 0]])], 0.64)"
      ]
     },
     "execution_count": 54,
     "metadata": {},
     "output_type": "execute_result"
    }
   ],
   "source": [
    "main_prog(matriz_aleatoria)"
   ]
  },
  {
   "cell_type": "code",
   "execution_count": 62,
   "metadata": {},
   "outputs": [],
   "source": [
    "matriz_exemplo = np.matrix('1 1 0 0 0 0 0 0; 1 0 0 0 1 1 0 0; 0 0 1 1 0 0 1 0; 0 0 1 0 0 0 1 1; 0 1 0 0 1 1 0 0')"
   ]
  },
  {
   "cell_type": "code",
   "execution_count": 63,
   "metadata": {},
   "outputs": [
    {
     "name": "stdout",
     "output_type": "stream",
     "text": [
      "[[1 1 0 0 0 0 0 0]\n",
      " [1 0 0 0 1 1 0 0]\n",
      " [0 0 1 1 0 0 1 0]\n",
      " [0 0 1 0 0 0 1 1]\n",
      " [0 1 0 0 1 1 0 0]]\n"
     ]
    }
   ],
   "source": [
    "print(matriz_exemplo)"
   ]
  },
  {
   "cell_type": "code",
   "execution_count": 64,
   "metadata": {},
   "outputs": [
    {
     "data": {
      "text/plain": [
       "([matrix([[1, 1]]), matrix([[0, 0, 1, 1, 0, 0],\n",
       "          [1, 1, 0, 0, 1, 0],\n",
       "          [1, 0, 0, 0, 1, 1],\n",
       "          [0, 0, 1, 1, 0, 0]])], 0.6593406593406594)"
      ]
     },
     "execution_count": 64,
     "metadata": {},
     "output_type": "execute_result"
    }
   ],
   "source": [
    "main_prog(matriz_exemplo)"
   ]
  },
  {
   "cell_type": "code",
   "execution_count": null,
   "metadata": {},
   "outputs": [],
   "source": []
  }
 ],
 "metadata": {
  "kernelspec": {
   "display_name": "Python 3",
   "language": "python",
   "name": "python3"
  },
  "language_info": {
   "codemirror_mode": {
    "name": "ipython",
    "version": 3
   },
   "file_extension": ".py",
   "mimetype": "text/x-python",
   "name": "python",
   "nbconvert_exporter": "python",
   "pygments_lexer": "ipython3",
   "version": "3.7.1"
  }
 },
 "nbformat": 4,
 "nbformat_minor": 2
}
